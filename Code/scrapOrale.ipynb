{
 "cells": [
  {
   "cell_type": "code",
   "execution_count": 1,
   "id": "43c15187-4327-4e8b-8447-8af522d8027a",
   "metadata": {},
   "outputs": [
    {
     "name": "stdout",
     "output_type": "stream",
     "text": [
      "Note: you may need to restart the kernel to use updated packages.\n"
     ]
    },
    {
     "name": "stderr",
     "output_type": "stream",
     "text": [
      "\n",
      "[notice] A new release of pip is available: 23.2.1 -> 23.3.1\n",
      "[notice] To update, run: python.exe -m pip install --upgrade pip\n"
     ]
    },
    {
     "name": "stdout",
     "output_type": "stream",
     "text": [
      "Requirement already satisfied: openpyxl in c:\\users\\cbe\\appdata\\local\\programs\\python\\python311\\lib\\site-packages (3.1.2)\n",
      "Requirement already satisfied: requests in c:\\users\\cbe\\appdata\\local\\programs\\python\\python311\\lib\\site-packages (2.31.0)\n",
      "Requirement already satisfied: beautifulsoup4 in c:\\users\\cbe\\appdata\\local\\programs\\python\\python311\\lib\\site-packages (4.12.2)\n",
      "Requirement already satisfied: et-xmlfile in c:\\users\\cbe\\appdata\\local\\programs\\python\\python311\\lib\\site-packages (from openpyxl) (1.1.0)\n",
      "Requirement already satisfied: charset-normalizer<4,>=2 in c:\\users\\cbe\\appdata\\local\\programs\\python\\python311\\lib\\site-packages (from requests) (3.3.0)\n",
      "Requirement already satisfied: idna<4,>=2.5 in c:\\users\\cbe\\appdata\\local\\programs\\python\\python311\\lib\\site-packages (from requests) (3.4)\n",
      "Requirement already satisfied: urllib3<3,>=1.21.1 in c:\\users\\cbe\\appdata\\local\\programs\\python\\python311\\lib\\site-packages (from requests) (1.26.15)\n",
      "Requirement already satisfied: certifi>=2017.4.17 in c:\\users\\cbe\\appdata\\local\\programs\\python\\python311\\lib\\site-packages (from requests) (2022.12.7)\n",
      "Requirement already satisfied: soupsieve>1.2 in c:\\users\\cbe\\appdata\\local\\programs\\python\\python311\\lib\\site-packages (from beautifulsoup4) (2.5)\n"
     ]
    }
   ],
   "source": [
    "pip install openpyxl requests beautifulsoup4"
   ]
  },
  {
   "cell_type": "code",
   "execution_count": 1,
   "id": "fb33341a-5ea9-4649-b8b1-ca0b095452e9",
   "metadata": {},
   "outputs": [
    {
     "name": "stdout",
     "output_type": "stream",
     "text": [
      "Next Link Href: https://www.chambredesrepresentants.ma/fr/%D9%85%D8%B1%D8%A7%D9%82%D8%A8%D8%A9-%D8%A7%D9%84%D8%B9%D9%85%D9%84-%D8%A7%D9%84%D8%AD%D9%83%D9%88%D9%85%D9%8A/%D8%A7%D9%84%D8%A3%D8%B3%D9%80%D8%A6%D9%84%D8%A9-%D8%A7%D9%84%D8%B4%D9%81%D9%88%D9%8A%D8%A9-%D8%A3%D8%B1%D8%B4%D9%8A%D9%81?page=1\n",
      "[{'minister_txt': \"Secrétariat d'Etat chargé de la formation professionnelle.\", 'qnum_txt': '258', 'obj': 'وضعية بعض مستشفيات المملكة', 'response_date_txt': 'pas de réponse', 'date_txt': '05/11/2021', 'question_txt': 'تعاني العديد من مستشفيات المملكة نقصا كبيرا في التجهيزات والمعدات الطبية ومن خصاص حاد على مستوى الموارد البشرية ، و مما زاد في تعرية هذا الواقع ماخلفته أزمة كورونا من انعكاسات سلبية على جودة الخدمات المقدمة للمرضى .\\nلأجل ذلك وفي إطار سياسة تأهيل المستشفيات لكي تقوم بواجباتها الصحية لصالح المواطنات والمواطنين ، يظل المستشفى الإقليمي بإنزكان في حاجة ماسة إلى إعادة هيكلته إداريا وبشريا ولوجيستيكيا  هذا في الوقت الذي يظل جناحه  المختص في الولادة لا يتوفر إلا على سرير  واحد لكل ثلاثة نساء ، و كذلك الأمر لباقي التخصصات الطبية الأخرى \\nتجدر الإشارة إلى أن هذا المستشفى السالف ذكره يسدي خدماته لفائدة  ساكنة ستة جماعات وهي : آيت ملول ، إنزكان ، الدشيرة ، القليعة ، تمسية , أولاد داحو. \\nبناء على كل هاته المعطيات  نسائلكم السيد الوزير المحترم :\\n•\\tعن التدابير و الإجراءات المزمع اتخاذها لتأهيل مجموعة من مستشفيات المملكة على مستوى  التجهيزات و الموارد البشرية ( المستشفى  الإقليمي لإنزكان نموذجا ) ؟', 'nom_questionneur': 'AHMED ADERRAK', 'groupe': 'Groupe Justice et Développement'}, {'minister_txt': \"Secrétariat d'Etat chargé de l'enseignement supérieur et de la recherche scientifique.\", 'qnum_txt': '259', 'obj': 'الطاقات الـمتجددة والنجاعة الطاقية', 'response_date_txt': 'pas de réponse', 'date_txt': '05/11/2021', 'question_txt': 'يمتلك المغرب إمكانيات هائلة لإنتاج الطاقات المتجددة، وذلك عن طريق عدة مصادر، منها الطاقة الشمسية والريحية والمائية، وبالاعتماد على مصادر أخرى مثل الأنهار الكبرى والسدود، وقد بُذلت مجهودات كبيرة من أجل تنمية وتطوير طاقة الرياح والطاقة الشمسية وغيرها. ومعلوم أن استعمال الطاقات البديلة والتوجه نحو الطاقات المتجددة هو خيار استراتيجي من أجل مواجهة التغير المناخي، والحفاظ على البيئة، لكن الملاحظ أن نسبة الإنتاج ماتزال ضعيفة، وكلفة الطاقات المتجددة في المرحلة الراهنة مازالت مرتفعة.\\nولهذا فإن التحدي المطروح حاليا هو كيف سيتم الرفع من الإنتاج وتوفير المزيد من الطاقة التي تنتجها بلادنا بكلفة أقل، خصوصا وأن التكنولوجيا المستعملة في الطاقات المتجددة تتطور بسرعة، وهل فعلا ستتمكن بلادنا من إنتاج أكثر من نصف حاجتها من الكهرباء بحلول سنة 2030، اعتمادا على مصادر الطاقة، وهل نحن فعلا قادرين على تصدير الطاقة المتجددة في أفق سنة 2030، حيث نتكلم حاليا بشكل كبير عن تصدير الطاقة النظيفة، وهو الهدف الذي يجب أن نعمل عليه كثيرا لنكون من السباقين لتصديرها. وبالنسبة للطاقة الشمسية، فهي من بين المشاريع المهمة حاليا، سواء في البوادي أو في المدن، لذا يتعين الرفع من تأمين هذه الطاقة بشكل أكبر.\\nلذا نسائلكن عن خططكم من أجل تشجيع استعمال الطاقات المتجددة في المنازل والأراضي الفلاحية والإدارات والمؤسسات العمومية، وعن مخططات عملكم المستقبلية بخصوص تقوية النجاعة الطاقية في عدة قطاعات كالقطاع الصناعي والفلاحي وغيره؟', 'nom_questionneur': 'SOUAD LAMARI', 'groupe': 'Groupe Justice et Développement'}, {'minister_txt': 'الصحة.', 'qnum_txt': '231', 'obj': 'دور الاقتصاد الاجتماعي و التضامني في تحقيق التنمية المستدامة', 'response_date_txt': 'pas de réponse', 'date_txt': '04/11/2021', 'question_txt': 'يعتبر قطاع الاقتصاد الاجتماعي والتضامني بالمغرب قطاعا واعدا وحيويا  بامتياز إذ يساهم في محاربة الفقر، والإقصاء الاجتماعي، و يلعب دورا كبيرا في خلق  مناصب شغل جديدة  فضلا عن مســاهمته فــي التنميــة المجاليــة المندمجة المبنية على تثميــن الثــروات و المؤهــلات المحليــة.\\nبناء عليه نسائلكم السيدة الوزيرة المحترمة  :\\n•\\tعن إستراتيجيتكم  المزمع اعتمادها فيما يخص النهوض بالاقتصاد الاجتماعي والتضامني كرافعة لتحقيق التنمية  المستدامة ببلادنا ؟', 'nom_questionneur': 'RACHID BAHLOUL', 'groupe': 'Groupe socialiste'}, {'minister_txt': 'Jeunesse et sports.', 'qnum_txt': '247', 'obj': 'دور الوكالات الحضرية في تشجيع الاستثمار و تحقيق التنمية المحلية', 'response_date_txt': 'Lundi 20 Novembre 2017', 'date_txt': '04/11/2021', 'question_txt': 'لا أحد يمكن أن ينكر الدور الكبير التي تضطلع به  الوكالات الحضرية  على مستوى التخطيط العمراني و إعداد وثائق التعمير و تدبير المجال و تأهيل المدن و المساهمة في إنجاح كافة المشاريع المهيكلة الرامية إلى تشجيع و تسهيل الاستثمار و تحقيق التنمية المحلية المنشودة.\\nبناء عليه نسائلكم السيد الوزير المحترم   :\\n•\\tعن الأدوار  و المهام  الموكولة للوكالات الحضرية فيما يخص التشجيع على الاستثمار  و المساهمة في تحقيق النماء و الإقلاع الاقتصادي و الاجتماعي المنشود ؟', 'nom_questionneur': 'RACHID BAHLOUL', 'groupe': 'Groupe socialiste'}, {'minister_txt': 'Economie et finances.', 'qnum_txt': '232', 'obj': 'السياسة الحكومية المتعلقة بتحسين مناخ الأعمال', 'response_date_txt': 'pas de réponse', 'date_txt': '04/11/2021', 'question_txt': 'في إ طار المجهودات الحكومية  لتحسين مناخ الأعمال  ببلادنا، و ارتباطا    بالأوراش الإصلاحية المتعلقة بتبسيط المساطر والإجراءات الإدارية، وتحسين الإطار القانوني والتنظيمي للأعمال  و تأهيل الرأسمال البشري و مواكبة المقاولات والابتكار وإدماج القطاع غير المهيكل.\\nبناء عليه نسائلكم السيد الوزير:\\n•\\tعن خطة عمل الحكومة بخصوص تحسين مناخ الأعمال  و الرفع من  أدائه في ظل الدينامية الجديدة التي يشهدها الاقتصاد الوطني ؟', 'nom_questionneur': 'RACHID BAHLOUL', 'groupe': 'Groupe socialiste'}, {'minister_txt': 'Habous et des affaires islamiques.', 'qnum_txt': '248', 'obj': 'السبل الكفيلة بإنجاح ورش تعميم الحماية الاجتماعية بالمغرب', 'response_date_txt': 'pas de réponse', 'date_txt': '04/11/2021', 'question_txt': 'يشكل ورش تعميم الحماية الاجتماعية  إحدى الأوراش  المجتمعية الغير مسبوقة ببلادنا فهو مشروع ملكي و ثورة اجتماعية حقيقية جاءت لتكرس المكتسبات، وتثمن  الإنجازات الهامة التي راكمها المغرب على مستوى النهوض بالعدالة الاجتماعية و المجالية و صون كرامة المواطن و ضمان حقوقه .\\nبناء عليه نسائلكم السيد الوزير المحترم   :\\n•\\tماهي خطة عمل الحكومة فيما يخص التنزيل السليم لورش الحماية الاجتماعية  وملامسة آثاره الاجتماعية و الإنسانية على المواطنين المغاربة  عبر مختلف أرجاء المملكة ؟', 'nom_questionneur': 'RACHID BAHLOUL', 'groupe': 'Groupe socialiste'}, {'minister_txt': 'none', 'qnum_txt': '233', 'obj': 'سبل إنجاح البرنامج الوطني للتزويد بالماء الصالح للشرب  و مياه السقي', 'response_date_txt': 'Mardi 16 Mai 2017', 'date_txt': '04/11/2021', 'question_txt': 'يشكل البرنامج الوطني للتزويد بالماء الصالح للشرب ومياه السقي للفترة الممتدة ما بين 2020-2027 إحدى البرامج الكبرى و المهيكلة بغية ضمان الأمن المائي  و ذلك على المدى القصير والمتوسط عبر مختلف أرجاء و ربوع المملكة .\\n\\nبناء عليه نسائلكم السيد الوزير:\\n•\\tعن   أهمية البرنامج الوطني للتزويد بالماء الصالح للشرب و مياه السقي  للفترة ما بين 2020-2027 و ما يقتضيه من تدابير فعالة  لتحقيق  الإقلاع الاقتصادي المنشود   ؟', 'nom_questionneur': 'RACHID BAHLOUL', 'groupe': 'Groupe socialiste'}, {'minister_txt': 'none', 'qnum_txt': '249', 'obj': 'الإجراءات المتخذة لإنجاح الموسم الفلاحي الحالي', 'response_date_txt': 'pas de réponse', 'date_txt': '04/11/2021', 'question_txt': 'بالنظر للأهمية التي يكتسيها القطاع الفلاحي ضمن المنظومة الاقتصادية والاجتماعية لبلادنا، وفي ظل المجهودات الحكومية المبذولة على مستوى تنويع سلاسل الإنتاج ودعم ومواكبة الفلاحين .\\nنسائلكم السيد الوزير:\\n-\\tعن التدابير والإجراءات المتخذة  لإنجاح الموسم الفلاحي الحالي ؟', 'nom_questionneur': 'RACHID BAHLOUL', 'groupe': 'Groupe socialiste'}, {'minister_txt': 'Economie et finances.', 'qnum_txt': '234', 'obj': 'الحاجة إلى خلق المزيد من المسالك الطرقية في إطار فك العزلة عن ساكنة العالم القروي', 'response_date_txt': 'pas de réponse', 'date_txt': '04/11/2021', 'question_txt': 'في إطار السياسة الرامية إلى تعزيز البنيات التحتية ببلادنا يظل العالم القروي في حاجة ماسة إلى  خلق و تشييد  مجموعة من المسالك الطرقية و ذلك في ظل  الدينامية الديموغرافية والسكانية والتحولات الإجتماعية  التي تشهدها العديد من مناطق و قرى المملكة \\nبناء عليه نسائلكم السيد الوزير:\\n•\\tعن السياسة الحكومية المتعلقة بخلق  وتشييد مسالك طرقية جديدة  في إطار فك العزلة عن ساكنة العالم القروي ؟', 'nom_questionneur': 'RACHID BAHLOUL', 'groupe': 'Groupe socialiste'}, {'minister_txt': 'الصحة.', 'qnum_txt': '250', 'obj': 'الدخول الجامعي', 'response_date_txt': 'pas de réponse', 'date_txt': '04/11/2021', 'question_txt': 'انطلق الدخول الجامعي الحالي 2021-2022 في ظل استمرار تداعيات جائحة كورونا، ولاشك أن توفير التكوين الجيد، وفضاء آمن وملائم للتحصيل، وكذا تعميم استفادة الطلبة من المنح والأحياء الجامعية يشكل أحد العوامل الأساسية لضمان مرور هذا الموسم في أحسن الظروف. \\n\\nبناء نسائلكم السيد الوزير:\\n-\\t عن التدابير والإجراءات التي اتخذتها وزارتكم لتوفير كل الظروف الملائمة لإنجاح هذا الدخول الجامعي ؟', 'nom_questionneur': 'RACHID BAHLOUL', 'groupe': 'Groupe socialiste'}, {'minister_txt': 'none', 'qnum_txt': '235', 'obj': 'تشجيع الاستثمار في الطاقات المتجددة', 'response_date_txt': 'pas de réponse', 'date_txt': '04/11/2021', 'question_txt': 'لقد أطلق المغرب عددا كبيرا من المشاريع المهيكلة في مجال الطاقة الجديدة والمتجددة مما سيجعله قبلة للاستثمارات الأجنبية و المحلية خصوصا فيما يتعلق بالطاقات الشمسية و الريحية والكهرومائية، وكذلك تلك المتعلقة بإنتاج الهيدروجين الأخضر \\nمن هذا المنطلق نسائلكم السيد الوزير المحترم :\\n•\\tعن الخطة الحكومية  المزمع اعتمادها فيما يخص التشجيع على الاستثمار المنتج في الطاقات المتجددة  ببلادنا ؟', 'nom_questionneur': 'RACHID BAHLOUL', 'groupe': 'Groupe socialiste'}, {'minister_txt': \"Secrétariat d'Etat chargé du transport.\", 'qnum_txt': '251', 'obj': 'الاكتظاظ بالمؤسسات التعليمية', 'response_date_txt': 'Lundi 11 Décembre 2017', 'date_txt': '04/11/2021', 'question_txt': 'كما هو معلوم، ينطلق الموسم الدراسي الحالي 2021-2022 في ظل ما تعانيه عدد من المؤسسات التعليمية خاصة بالعالم القروي من مشكل الاكتظاظ، وهي الظاهرة التي قد تؤثر بشكل سلبي على التلاميذ سواء من حيث جودة العملية التعليمية أو الصحية خاصة في استمرار تداعيات جائحة كورونا.\\nبناء عليه نسائلكم السيد الوزير:\\n-\\t    عن التدابير والإجراءات الاستعجالية التي تعتزم الوزارة اتخاذها لحل مشكل الاكتظاظ بهذه المؤسسات ؟', 'nom_questionneur': 'FAOUZI CHAABI', 'groupe': 'Groupe Authenticité et modernité'}, {'minister_txt': 'none', 'qnum_txt': '236', 'obj': 'خطة إنعاش  و تأهيل القطاع السياحي ببلادنا', 'response_date_txt': 'Mardi 16 Mai 2017', 'date_txt': '04/11/2021', 'question_txt': 'مما لاشك فيه أن القطاع السياحي بالمغرب يظل  من بين القطاعات الحيوية التي تساهم في تحصين و تمنيع الاقتصاد الوطني بفعل إسهاماته  و مداخيله  ، إلا أنه و نظرا للانعكاسات السلبية و المباشرة التي خلفتها أزمة  كورونا  و  التقلبات التي شهدها  السوق الدولي  خلال السنتين المنصرمتين  ، و ارتباطا بما سطرته الحكومة في برنامجها الحكومي من أولويات و على رأسها إنعاش هذا القطاع الحيوي و إيجاد السبل الكفيلة لاسترجاع عافيته  .\\nفإننا نسائلكم السيدة الوزيرة المحترمة :\\n•\\tعن الخطة الحكومية المزمع اعتمادها فيما يخص إنعاش و تأهيل القطاع السياحي الوطني بعد قرابة سنتين من الركود  و استثمار كل الإمكانيات المتاحة بهذا الخصوص؟', 'nom_questionneur': 'RACHID BAHLOUL', 'groupe': 'Groupe socialiste'}, {'minister_txt': 'Intérieur.', 'qnum_txt': '252', 'obj': 'الدخول المدرسي الحالي', 'response_date_txt': 'pas de réponse', 'date_txt': '04/11/2021', 'question_txt': 'انطلق الموسم الدراسي الحالي2021-2022 في ظل استمرار التداعيات والإكراهات التي فرضتها جائحة كورونا، مع ما يفرضه ذلك من ضرورة الاستمرار في تبني الإجراءات والتدابير الوقاية الصحية بما يكفل سلامة المجتمع المدرسي، ويضمن مرور هذا الموسم في أحسن الظروف.\\nتزامنا مع هذه الانطلاقة، قامت عدد من التنسيقيات التعليمية بالإعلان عن برامج احتجاجية، والدعوة للحوار من أجل الاستجابة لملفاتها المطلبية.\\nبناء عليه نسائلكم السيد الوزير:\\n-\\tعن التدابير والإجراءات التي اتخذتها الوزارة لضمان التحصيل الدراسي في ظروف جيدة  سواء على المستوى التربوي أو الصحي ؟ \\n-\\tوما هي الخطوات المتخذة لفتح حوار مع هذه التنسيقيات من أجل معالجة ملفاتها المطلبية ؟', 'nom_questionneur': 'RACHID BAHLOUL', 'groupe': 'Groupe socialiste'}, {'minister_txt': 'none', 'qnum_txt': '237', 'obj': 'الارتقاء بمنظومة التكوين المهني و المستمر و تعزيز جاذبيته', 'response_date_txt': 'pas de réponse', 'date_txt': '04/11/2021', 'question_txt': 'في إطار السياسة الحكومية الرامية إلى الارتقاء بمنظومة التكوين المهني و المستمر يتم السهر على تطوير مجموعة من المسالك بين المقاولات و التعليم باعتبارها رافعة قوية للتنمية في العديد من القطاعات الإنتاجية.  \\n               \\nمن هذا المنطلق نسائلكم السيد الوزير:\\n•\\tعن التدابير و الإجراءات المزمع اتخاذها لتأهيل منظومة التكوين المهني و المستمر وجعلها تتماشى مع حاجيات المقاولات و سوق الشغل ؟', 'nom_questionneur': 'RACHID BAHLOUL', 'groupe': 'Groupe socialiste'}]\n"
     ]
    },
    {
     "ename": "KeyboardInterrupt",
     "evalue": "",
     "output_type": "error",
     "traceback": [
      "\u001b[1;31m---------------------------------------------------------------------------\u001b[0m",
      "\u001b[1;31mKeyboardInterrupt\u001b[0m                         Traceback (most recent call last)",
      "Cell \u001b[1;32mIn[1], line 74\u001b[0m\n\u001b[0;32m     72\u001b[0m link_questioner \u001b[38;5;241m=\u001b[39m soup2\u001b[38;5;241m.\u001b[39mselect_one(\u001b[38;5;124m'\u001b[39m\u001b[38;5;124m.q-name\u001b[39m\u001b[38;5;124m'\u001b[39m)\u001b[38;5;241m.\u001b[39ma[\u001b[38;5;124m'\u001b[39m\u001b[38;5;124mhref\u001b[39m\u001b[38;5;124m'\u001b[39m]\n\u001b[0;32m     73\u001b[0m Url3 \u001b[38;5;241m=\u001b[39m \u001b[38;5;124mf\u001b[39m\u001b[38;5;124m\"\u001b[39m\u001b[38;5;124mhttps://www.chambredesrepresentants.ma\u001b[39m\u001b[38;5;132;01m{\u001b[39;00mlink_questioner\u001b[38;5;132;01m}\u001b[39;00m\u001b[38;5;124m\"\u001b[39m\n\u001b[1;32m---> 74\u001b[0m response3 \u001b[38;5;241m=\u001b[39m \u001b[43mrequests\u001b[49m\u001b[38;5;241;43m.\u001b[39;49m\u001b[43mget\u001b[49m\u001b[43m(\u001b[49m\u001b[43mUrl3\u001b[49m\u001b[43m)\u001b[49m\n\u001b[0;32m     75\u001b[0m \u001b[38;5;28;01mif\u001b[39;00m response3\u001b[38;5;241m.\u001b[39mstatus_code \u001b[38;5;241m==\u001b[39m \u001b[38;5;241m200\u001b[39m:\n\u001b[0;32m     76\u001b[0m     soup3 \u001b[38;5;241m=\u001b[39m BeautifulSoup(response3\u001b[38;5;241m.\u001b[39mtext, \u001b[38;5;124m'\u001b[39m\u001b[38;5;124mhtml.parser\u001b[39m\u001b[38;5;124m'\u001b[39m)\n",
      "File \u001b[1;32m~\\AppData\\Local\\Programs\\Python\\Python311\\Lib\\site-packages\\requests\\api.py:73\u001b[0m, in \u001b[0;36mget\u001b[1;34m(url, params, **kwargs)\u001b[0m\n\u001b[0;32m     62\u001b[0m \u001b[38;5;28;01mdef\u001b[39;00m \u001b[38;5;21mget\u001b[39m(url, params\u001b[38;5;241m=\u001b[39m\u001b[38;5;28;01mNone\u001b[39;00m, \u001b[38;5;241m*\u001b[39m\u001b[38;5;241m*\u001b[39mkwargs):\n\u001b[0;32m     63\u001b[0m \u001b[38;5;250m    \u001b[39m\u001b[38;5;124mr\u001b[39m\u001b[38;5;124;03m\"\"\"Sends a GET request.\u001b[39;00m\n\u001b[0;32m     64\u001b[0m \n\u001b[0;32m     65\u001b[0m \u001b[38;5;124;03m    :param url: URL for the new :class:`Request` object.\u001b[39;00m\n\u001b[1;32m   (...)\u001b[0m\n\u001b[0;32m     70\u001b[0m \u001b[38;5;124;03m    :rtype: requests.Response\u001b[39;00m\n\u001b[0;32m     71\u001b[0m \u001b[38;5;124;03m    \"\"\"\u001b[39;00m\n\u001b[1;32m---> 73\u001b[0m     \u001b[38;5;28;01mreturn\u001b[39;00m \u001b[43mrequest\u001b[49m\u001b[43m(\u001b[49m\u001b[38;5;124;43m\"\u001b[39;49m\u001b[38;5;124;43mget\u001b[39;49m\u001b[38;5;124;43m\"\u001b[39;49m\u001b[43m,\u001b[49m\u001b[43m \u001b[49m\u001b[43murl\u001b[49m\u001b[43m,\u001b[49m\u001b[43m \u001b[49m\u001b[43mparams\u001b[49m\u001b[38;5;241;43m=\u001b[39;49m\u001b[43mparams\u001b[49m\u001b[43m,\u001b[49m\u001b[43m \u001b[49m\u001b[38;5;241;43m*\u001b[39;49m\u001b[38;5;241;43m*\u001b[39;49m\u001b[43mkwargs\u001b[49m\u001b[43m)\u001b[49m\n",
      "File \u001b[1;32m~\\AppData\\Local\\Programs\\Python\\Python311\\Lib\\site-packages\\requests\\api.py:59\u001b[0m, in \u001b[0;36mrequest\u001b[1;34m(method, url, **kwargs)\u001b[0m\n\u001b[0;32m     55\u001b[0m \u001b[38;5;66;03m# By using the 'with' statement we are sure the session is closed, thus we\u001b[39;00m\n\u001b[0;32m     56\u001b[0m \u001b[38;5;66;03m# avoid leaving sockets open which can trigger a ResourceWarning in some\u001b[39;00m\n\u001b[0;32m     57\u001b[0m \u001b[38;5;66;03m# cases, and look like a memory leak in others.\u001b[39;00m\n\u001b[0;32m     58\u001b[0m \u001b[38;5;28;01mwith\u001b[39;00m sessions\u001b[38;5;241m.\u001b[39mSession() \u001b[38;5;28;01mas\u001b[39;00m session:\n\u001b[1;32m---> 59\u001b[0m     \u001b[38;5;28;01mreturn\u001b[39;00m \u001b[43msession\u001b[49m\u001b[38;5;241;43m.\u001b[39;49m\u001b[43mrequest\u001b[49m\u001b[43m(\u001b[49m\u001b[43mmethod\u001b[49m\u001b[38;5;241;43m=\u001b[39;49m\u001b[43mmethod\u001b[49m\u001b[43m,\u001b[49m\u001b[43m \u001b[49m\u001b[43murl\u001b[49m\u001b[38;5;241;43m=\u001b[39;49m\u001b[43murl\u001b[49m\u001b[43m,\u001b[49m\u001b[43m \u001b[49m\u001b[38;5;241;43m*\u001b[39;49m\u001b[38;5;241;43m*\u001b[39;49m\u001b[43mkwargs\u001b[49m\u001b[43m)\u001b[49m\n",
      "File \u001b[1;32m~\\AppData\\Local\\Programs\\Python\\Python311\\Lib\\site-packages\\requests\\sessions.py:589\u001b[0m, in \u001b[0;36mSession.request\u001b[1;34m(self, method, url, params, data, headers, cookies, files, auth, timeout, allow_redirects, proxies, hooks, stream, verify, cert, json)\u001b[0m\n\u001b[0;32m    584\u001b[0m send_kwargs \u001b[38;5;241m=\u001b[39m {\n\u001b[0;32m    585\u001b[0m     \u001b[38;5;124m\"\u001b[39m\u001b[38;5;124mtimeout\u001b[39m\u001b[38;5;124m\"\u001b[39m: timeout,\n\u001b[0;32m    586\u001b[0m     \u001b[38;5;124m\"\u001b[39m\u001b[38;5;124mallow_redirects\u001b[39m\u001b[38;5;124m\"\u001b[39m: allow_redirects,\n\u001b[0;32m    587\u001b[0m }\n\u001b[0;32m    588\u001b[0m send_kwargs\u001b[38;5;241m.\u001b[39mupdate(settings)\n\u001b[1;32m--> 589\u001b[0m resp \u001b[38;5;241m=\u001b[39m \u001b[38;5;28;43mself\u001b[39;49m\u001b[38;5;241;43m.\u001b[39;49m\u001b[43msend\u001b[49m\u001b[43m(\u001b[49m\u001b[43mprep\u001b[49m\u001b[43m,\u001b[49m\u001b[43m \u001b[49m\u001b[38;5;241;43m*\u001b[39;49m\u001b[38;5;241;43m*\u001b[39;49m\u001b[43msend_kwargs\u001b[49m\u001b[43m)\u001b[49m\n\u001b[0;32m    591\u001b[0m \u001b[38;5;28;01mreturn\u001b[39;00m resp\n",
      "File \u001b[1;32m~\\AppData\\Local\\Programs\\Python\\Python311\\Lib\\site-packages\\requests\\sessions.py:703\u001b[0m, in \u001b[0;36mSession.send\u001b[1;34m(self, request, **kwargs)\u001b[0m\n\u001b[0;32m    700\u001b[0m start \u001b[38;5;241m=\u001b[39m preferred_clock()\n\u001b[0;32m    702\u001b[0m \u001b[38;5;66;03m# Send the request\u001b[39;00m\n\u001b[1;32m--> 703\u001b[0m r \u001b[38;5;241m=\u001b[39m \u001b[43madapter\u001b[49m\u001b[38;5;241;43m.\u001b[39;49m\u001b[43msend\u001b[49m\u001b[43m(\u001b[49m\u001b[43mrequest\u001b[49m\u001b[43m,\u001b[49m\u001b[43m \u001b[49m\u001b[38;5;241;43m*\u001b[39;49m\u001b[38;5;241;43m*\u001b[39;49m\u001b[43mkwargs\u001b[49m\u001b[43m)\u001b[49m\n\u001b[0;32m    705\u001b[0m \u001b[38;5;66;03m# Total elapsed time of the request (approximately)\u001b[39;00m\n\u001b[0;32m    706\u001b[0m elapsed \u001b[38;5;241m=\u001b[39m preferred_clock() \u001b[38;5;241m-\u001b[39m start\n",
      "File \u001b[1;32m~\\AppData\\Local\\Programs\\Python\\Python311\\Lib\\site-packages\\requests\\adapters.py:486\u001b[0m, in \u001b[0;36mHTTPAdapter.send\u001b[1;34m(self, request, stream, timeout, verify, cert, proxies)\u001b[0m\n\u001b[0;32m    483\u001b[0m     timeout \u001b[38;5;241m=\u001b[39m TimeoutSauce(connect\u001b[38;5;241m=\u001b[39mtimeout, read\u001b[38;5;241m=\u001b[39mtimeout)\n\u001b[0;32m    485\u001b[0m \u001b[38;5;28;01mtry\u001b[39;00m:\n\u001b[1;32m--> 486\u001b[0m     resp \u001b[38;5;241m=\u001b[39m \u001b[43mconn\u001b[49m\u001b[38;5;241;43m.\u001b[39;49m\u001b[43murlopen\u001b[49m\u001b[43m(\u001b[49m\n\u001b[0;32m    487\u001b[0m \u001b[43m        \u001b[49m\u001b[43mmethod\u001b[49m\u001b[38;5;241;43m=\u001b[39;49m\u001b[43mrequest\u001b[49m\u001b[38;5;241;43m.\u001b[39;49m\u001b[43mmethod\u001b[49m\u001b[43m,\u001b[49m\n\u001b[0;32m    488\u001b[0m \u001b[43m        \u001b[49m\u001b[43murl\u001b[49m\u001b[38;5;241;43m=\u001b[39;49m\u001b[43murl\u001b[49m\u001b[43m,\u001b[49m\n\u001b[0;32m    489\u001b[0m \u001b[43m        \u001b[49m\u001b[43mbody\u001b[49m\u001b[38;5;241;43m=\u001b[39;49m\u001b[43mrequest\u001b[49m\u001b[38;5;241;43m.\u001b[39;49m\u001b[43mbody\u001b[49m\u001b[43m,\u001b[49m\n\u001b[0;32m    490\u001b[0m \u001b[43m        \u001b[49m\u001b[43mheaders\u001b[49m\u001b[38;5;241;43m=\u001b[39;49m\u001b[43mrequest\u001b[49m\u001b[38;5;241;43m.\u001b[39;49m\u001b[43mheaders\u001b[49m\u001b[43m,\u001b[49m\n\u001b[0;32m    491\u001b[0m \u001b[43m        \u001b[49m\u001b[43mredirect\u001b[49m\u001b[38;5;241;43m=\u001b[39;49m\u001b[38;5;28;43;01mFalse\u001b[39;49;00m\u001b[43m,\u001b[49m\n\u001b[0;32m    492\u001b[0m \u001b[43m        \u001b[49m\u001b[43massert_same_host\u001b[49m\u001b[38;5;241;43m=\u001b[39;49m\u001b[38;5;28;43;01mFalse\u001b[39;49;00m\u001b[43m,\u001b[49m\n\u001b[0;32m    493\u001b[0m \u001b[43m        \u001b[49m\u001b[43mpreload_content\u001b[49m\u001b[38;5;241;43m=\u001b[39;49m\u001b[38;5;28;43;01mFalse\u001b[39;49;00m\u001b[43m,\u001b[49m\n\u001b[0;32m    494\u001b[0m \u001b[43m        \u001b[49m\u001b[43mdecode_content\u001b[49m\u001b[38;5;241;43m=\u001b[39;49m\u001b[38;5;28;43;01mFalse\u001b[39;49;00m\u001b[43m,\u001b[49m\n\u001b[0;32m    495\u001b[0m \u001b[43m        \u001b[49m\u001b[43mretries\u001b[49m\u001b[38;5;241;43m=\u001b[39;49m\u001b[38;5;28;43mself\u001b[39;49m\u001b[38;5;241;43m.\u001b[39;49m\u001b[43mmax_retries\u001b[49m\u001b[43m,\u001b[49m\n\u001b[0;32m    496\u001b[0m \u001b[43m        \u001b[49m\u001b[43mtimeout\u001b[49m\u001b[38;5;241;43m=\u001b[39;49m\u001b[43mtimeout\u001b[49m\u001b[43m,\u001b[49m\n\u001b[0;32m    497\u001b[0m \u001b[43m        \u001b[49m\u001b[43mchunked\u001b[49m\u001b[38;5;241;43m=\u001b[39;49m\u001b[43mchunked\u001b[49m\u001b[43m,\u001b[49m\n\u001b[0;32m    498\u001b[0m \u001b[43m    \u001b[49m\u001b[43m)\u001b[49m\n\u001b[0;32m    500\u001b[0m \u001b[38;5;28;01mexcept\u001b[39;00m (ProtocolError, \u001b[38;5;167;01mOSError\u001b[39;00m) \u001b[38;5;28;01mas\u001b[39;00m err:\n\u001b[0;32m    501\u001b[0m     \u001b[38;5;28;01mraise\u001b[39;00m \u001b[38;5;167;01mConnectionError\u001b[39;00m(err, request\u001b[38;5;241m=\u001b[39mrequest)\n",
      "File \u001b[1;32m~\\AppData\\Local\\Programs\\Python\\Python311\\Lib\\site-packages\\urllib3\\connectionpool.py:703\u001b[0m, in \u001b[0;36mHTTPConnectionPool.urlopen\u001b[1;34m(self, method, url, body, headers, retries, redirect, assert_same_host, timeout, pool_timeout, release_conn, chunked, body_pos, **response_kw)\u001b[0m\n\u001b[0;32m    700\u001b[0m     \u001b[38;5;28mself\u001b[39m\u001b[38;5;241m.\u001b[39m_prepare_proxy(conn)\n\u001b[0;32m    702\u001b[0m \u001b[38;5;66;03m# Make the request on the httplib connection object.\u001b[39;00m\n\u001b[1;32m--> 703\u001b[0m httplib_response \u001b[38;5;241m=\u001b[39m \u001b[38;5;28;43mself\u001b[39;49m\u001b[38;5;241;43m.\u001b[39;49m\u001b[43m_make_request\u001b[49m\u001b[43m(\u001b[49m\n\u001b[0;32m    704\u001b[0m \u001b[43m    \u001b[49m\u001b[43mconn\u001b[49m\u001b[43m,\u001b[49m\n\u001b[0;32m    705\u001b[0m \u001b[43m    \u001b[49m\u001b[43mmethod\u001b[49m\u001b[43m,\u001b[49m\n\u001b[0;32m    706\u001b[0m \u001b[43m    \u001b[49m\u001b[43murl\u001b[49m\u001b[43m,\u001b[49m\n\u001b[0;32m    707\u001b[0m \u001b[43m    \u001b[49m\u001b[43mtimeout\u001b[49m\u001b[38;5;241;43m=\u001b[39;49m\u001b[43mtimeout_obj\u001b[49m\u001b[43m,\u001b[49m\n\u001b[0;32m    708\u001b[0m \u001b[43m    \u001b[49m\u001b[43mbody\u001b[49m\u001b[38;5;241;43m=\u001b[39;49m\u001b[43mbody\u001b[49m\u001b[43m,\u001b[49m\n\u001b[0;32m    709\u001b[0m \u001b[43m    \u001b[49m\u001b[43mheaders\u001b[49m\u001b[38;5;241;43m=\u001b[39;49m\u001b[43mheaders\u001b[49m\u001b[43m,\u001b[49m\n\u001b[0;32m    710\u001b[0m \u001b[43m    \u001b[49m\u001b[43mchunked\u001b[49m\u001b[38;5;241;43m=\u001b[39;49m\u001b[43mchunked\u001b[49m\u001b[43m,\u001b[49m\n\u001b[0;32m    711\u001b[0m \u001b[43m\u001b[49m\u001b[43m)\u001b[49m\n\u001b[0;32m    713\u001b[0m \u001b[38;5;66;03m# If we're going to release the connection in ``finally:``, then\u001b[39;00m\n\u001b[0;32m    714\u001b[0m \u001b[38;5;66;03m# the response doesn't need to know about the connection. Otherwise\u001b[39;00m\n\u001b[0;32m    715\u001b[0m \u001b[38;5;66;03m# it will also try to release it and we'll have a double-release\u001b[39;00m\n\u001b[0;32m    716\u001b[0m \u001b[38;5;66;03m# mess.\u001b[39;00m\n\u001b[0;32m    717\u001b[0m response_conn \u001b[38;5;241m=\u001b[39m conn \u001b[38;5;28;01mif\u001b[39;00m \u001b[38;5;129;01mnot\u001b[39;00m release_conn \u001b[38;5;28;01melse\u001b[39;00m \u001b[38;5;28;01mNone\u001b[39;00m\n",
      "File \u001b[1;32m~\\AppData\\Local\\Programs\\Python\\Python311\\Lib\\site-packages\\urllib3\\connectionpool.py:449\u001b[0m, in \u001b[0;36mHTTPConnectionPool._make_request\u001b[1;34m(self, conn, method, url, timeout, chunked, **httplib_request_kw)\u001b[0m\n\u001b[0;32m    444\u001b[0m             httplib_response \u001b[38;5;241m=\u001b[39m conn\u001b[38;5;241m.\u001b[39mgetresponse()\n\u001b[0;32m    445\u001b[0m         \u001b[38;5;28;01mexcept\u001b[39;00m \u001b[38;5;167;01mBaseException\u001b[39;00m \u001b[38;5;28;01mas\u001b[39;00m e:\n\u001b[0;32m    446\u001b[0m             \u001b[38;5;66;03m# Remove the TypeError from the exception chain in\u001b[39;00m\n\u001b[0;32m    447\u001b[0m             \u001b[38;5;66;03m# Python 3 (including for exceptions like SystemExit).\u001b[39;00m\n\u001b[0;32m    448\u001b[0m             \u001b[38;5;66;03m# Otherwise it looks like a bug in the code.\u001b[39;00m\n\u001b[1;32m--> 449\u001b[0m             \u001b[43msix\u001b[49m\u001b[38;5;241;43m.\u001b[39;49m\u001b[43mraise_from\u001b[49m\u001b[43m(\u001b[49m\u001b[43me\u001b[49m\u001b[43m,\u001b[49m\u001b[43m \u001b[49m\u001b[38;5;28;43;01mNone\u001b[39;49;00m\u001b[43m)\u001b[49m\n\u001b[0;32m    450\u001b[0m \u001b[38;5;28;01mexcept\u001b[39;00m (SocketTimeout, BaseSSLError, SocketError) \u001b[38;5;28;01mas\u001b[39;00m e:\n\u001b[0;32m    451\u001b[0m     \u001b[38;5;28mself\u001b[39m\u001b[38;5;241m.\u001b[39m_raise_timeout(err\u001b[38;5;241m=\u001b[39me, url\u001b[38;5;241m=\u001b[39murl, timeout_value\u001b[38;5;241m=\u001b[39mread_timeout)\n",
      "File \u001b[1;32m<string>:3\u001b[0m, in \u001b[0;36mraise_from\u001b[1;34m(value, from_value)\u001b[0m\n",
      "File \u001b[1;32m~\\AppData\\Local\\Programs\\Python\\Python311\\Lib\\site-packages\\urllib3\\connectionpool.py:444\u001b[0m, in \u001b[0;36mHTTPConnectionPool._make_request\u001b[1;34m(self, conn, method, url, timeout, chunked, **httplib_request_kw)\u001b[0m\n\u001b[0;32m    441\u001b[0m \u001b[38;5;28;01mexcept\u001b[39;00m \u001b[38;5;167;01mTypeError\u001b[39;00m:\n\u001b[0;32m    442\u001b[0m     \u001b[38;5;66;03m# Python 3\u001b[39;00m\n\u001b[0;32m    443\u001b[0m     \u001b[38;5;28;01mtry\u001b[39;00m:\n\u001b[1;32m--> 444\u001b[0m         httplib_response \u001b[38;5;241m=\u001b[39m \u001b[43mconn\u001b[49m\u001b[38;5;241;43m.\u001b[39;49m\u001b[43mgetresponse\u001b[49m\u001b[43m(\u001b[49m\u001b[43m)\u001b[49m\n\u001b[0;32m    445\u001b[0m     \u001b[38;5;28;01mexcept\u001b[39;00m \u001b[38;5;167;01mBaseException\u001b[39;00m \u001b[38;5;28;01mas\u001b[39;00m e:\n\u001b[0;32m    446\u001b[0m         \u001b[38;5;66;03m# Remove the TypeError from the exception chain in\u001b[39;00m\n\u001b[0;32m    447\u001b[0m         \u001b[38;5;66;03m# Python 3 (including for exceptions like SystemExit).\u001b[39;00m\n\u001b[0;32m    448\u001b[0m         \u001b[38;5;66;03m# Otherwise it looks like a bug in the code.\u001b[39;00m\n\u001b[0;32m    449\u001b[0m         six\u001b[38;5;241m.\u001b[39mraise_from(e, \u001b[38;5;28;01mNone\u001b[39;00m)\n",
      "File \u001b[1;32m~\\AppData\\Local\\Programs\\Python\\Python311\\Lib\\http\\client.py:1374\u001b[0m, in \u001b[0;36mHTTPConnection.getresponse\u001b[1;34m(self)\u001b[0m\n\u001b[0;32m   1372\u001b[0m \u001b[38;5;28;01mtry\u001b[39;00m:\n\u001b[0;32m   1373\u001b[0m     \u001b[38;5;28;01mtry\u001b[39;00m:\n\u001b[1;32m-> 1374\u001b[0m         \u001b[43mresponse\u001b[49m\u001b[38;5;241;43m.\u001b[39;49m\u001b[43mbegin\u001b[49m\u001b[43m(\u001b[49m\u001b[43m)\u001b[49m\n\u001b[0;32m   1375\u001b[0m     \u001b[38;5;28;01mexcept\u001b[39;00m \u001b[38;5;167;01mConnectionError\u001b[39;00m:\n\u001b[0;32m   1376\u001b[0m         \u001b[38;5;28mself\u001b[39m\u001b[38;5;241m.\u001b[39mclose()\n",
      "File \u001b[1;32m~\\AppData\\Local\\Programs\\Python\\Python311\\Lib\\http\\client.py:318\u001b[0m, in \u001b[0;36mHTTPResponse.begin\u001b[1;34m(self)\u001b[0m\n\u001b[0;32m    316\u001b[0m \u001b[38;5;66;03m# read until we get a non-100 response\u001b[39;00m\n\u001b[0;32m    317\u001b[0m \u001b[38;5;28;01mwhile\u001b[39;00m \u001b[38;5;28;01mTrue\u001b[39;00m:\n\u001b[1;32m--> 318\u001b[0m     version, status, reason \u001b[38;5;241m=\u001b[39m \u001b[38;5;28;43mself\u001b[39;49m\u001b[38;5;241;43m.\u001b[39;49m\u001b[43m_read_status\u001b[49m\u001b[43m(\u001b[49m\u001b[43m)\u001b[49m\n\u001b[0;32m    319\u001b[0m     \u001b[38;5;28;01mif\u001b[39;00m status \u001b[38;5;241m!=\u001b[39m CONTINUE:\n\u001b[0;32m    320\u001b[0m         \u001b[38;5;28;01mbreak\u001b[39;00m\n",
      "File \u001b[1;32m~\\AppData\\Local\\Programs\\Python\\Python311\\Lib\\http\\client.py:279\u001b[0m, in \u001b[0;36mHTTPResponse._read_status\u001b[1;34m(self)\u001b[0m\n\u001b[0;32m    278\u001b[0m \u001b[38;5;28;01mdef\u001b[39;00m \u001b[38;5;21m_read_status\u001b[39m(\u001b[38;5;28mself\u001b[39m):\n\u001b[1;32m--> 279\u001b[0m     line \u001b[38;5;241m=\u001b[39m \u001b[38;5;28mstr\u001b[39m(\u001b[38;5;28mself\u001b[39m\u001b[38;5;241m.\u001b[39mfp\u001b[38;5;241m.\u001b[39mreadline(_MAXLINE \u001b[38;5;241m+\u001b[39m \u001b[38;5;241m1\u001b[39m), \u001b[38;5;124m\"\u001b[39m\u001b[38;5;124miso-8859-1\u001b[39m\u001b[38;5;124m\"\u001b[39m)\n\u001b[0;32m    280\u001b[0m     \u001b[38;5;28;01mif\u001b[39;00m \u001b[38;5;28mlen\u001b[39m(line) \u001b[38;5;241m>\u001b[39m _MAXLINE:\n\u001b[0;32m    281\u001b[0m         \u001b[38;5;28;01mraise\u001b[39;00m LineTooLong(\u001b[38;5;124m\"\u001b[39m\u001b[38;5;124mstatus line\u001b[39m\u001b[38;5;124m\"\u001b[39m)\n",
      "File \u001b[1;32m~\\AppData\\Local\\Programs\\Python\\Python311\\Lib\\socket.py:705\u001b[0m, in \u001b[0;36mSocketIO.readinto\u001b[1;34m(self, b)\u001b[0m\n\u001b[0;32m    703\u001b[0m \u001b[38;5;28;01mwhile\u001b[39;00m \u001b[38;5;28;01mTrue\u001b[39;00m:\n\u001b[0;32m    704\u001b[0m     \u001b[38;5;28;01mtry\u001b[39;00m:\n\u001b[1;32m--> 705\u001b[0m         \u001b[38;5;28;01mreturn\u001b[39;00m \u001b[38;5;28;43mself\u001b[39;49m\u001b[38;5;241;43m.\u001b[39;49m\u001b[43m_sock\u001b[49m\u001b[38;5;241;43m.\u001b[39;49m\u001b[43mrecv_into\u001b[49m\u001b[43m(\u001b[49m\u001b[43mb\u001b[49m\u001b[43m)\u001b[49m\n\u001b[0;32m    706\u001b[0m     \u001b[38;5;28;01mexcept\u001b[39;00m timeout:\n\u001b[0;32m    707\u001b[0m         \u001b[38;5;28mself\u001b[39m\u001b[38;5;241m.\u001b[39m_timeout_occurred \u001b[38;5;241m=\u001b[39m \u001b[38;5;28;01mTrue\u001b[39;00m\n",
      "File \u001b[1;32m~\\AppData\\Local\\Programs\\Python\\Python311\\Lib\\ssl.py:1278\u001b[0m, in \u001b[0;36mSSLSocket.recv_into\u001b[1;34m(self, buffer, nbytes, flags)\u001b[0m\n\u001b[0;32m   1274\u001b[0m     \u001b[38;5;28;01mif\u001b[39;00m flags \u001b[38;5;241m!=\u001b[39m \u001b[38;5;241m0\u001b[39m:\n\u001b[0;32m   1275\u001b[0m         \u001b[38;5;28;01mraise\u001b[39;00m \u001b[38;5;167;01mValueError\u001b[39;00m(\n\u001b[0;32m   1276\u001b[0m           \u001b[38;5;124m\"\u001b[39m\u001b[38;5;124mnon-zero flags not allowed in calls to recv_into() on \u001b[39m\u001b[38;5;132;01m%s\u001b[39;00m\u001b[38;5;124m\"\u001b[39m \u001b[38;5;241m%\u001b[39m\n\u001b[0;32m   1277\u001b[0m           \u001b[38;5;28mself\u001b[39m\u001b[38;5;241m.\u001b[39m\u001b[38;5;18m__class__\u001b[39m)\n\u001b[1;32m-> 1278\u001b[0m     \u001b[38;5;28;01mreturn\u001b[39;00m \u001b[38;5;28;43mself\u001b[39;49m\u001b[38;5;241;43m.\u001b[39;49m\u001b[43mread\u001b[49m\u001b[43m(\u001b[49m\u001b[43mnbytes\u001b[49m\u001b[43m,\u001b[49m\u001b[43m \u001b[49m\u001b[43mbuffer\u001b[49m\u001b[43m)\u001b[49m\n\u001b[0;32m   1279\u001b[0m \u001b[38;5;28;01melse\u001b[39;00m:\n\u001b[0;32m   1280\u001b[0m     \u001b[38;5;28;01mreturn\u001b[39;00m \u001b[38;5;28msuper\u001b[39m()\u001b[38;5;241m.\u001b[39mrecv_into(buffer, nbytes, flags)\n",
      "File \u001b[1;32m~\\AppData\\Local\\Programs\\Python\\Python311\\Lib\\ssl.py:1134\u001b[0m, in \u001b[0;36mSSLSocket.read\u001b[1;34m(self, len, buffer)\u001b[0m\n\u001b[0;32m   1132\u001b[0m \u001b[38;5;28;01mtry\u001b[39;00m:\n\u001b[0;32m   1133\u001b[0m     \u001b[38;5;28;01mif\u001b[39;00m buffer \u001b[38;5;129;01mis\u001b[39;00m \u001b[38;5;129;01mnot\u001b[39;00m \u001b[38;5;28;01mNone\u001b[39;00m:\n\u001b[1;32m-> 1134\u001b[0m         \u001b[38;5;28;01mreturn\u001b[39;00m \u001b[38;5;28;43mself\u001b[39;49m\u001b[38;5;241;43m.\u001b[39;49m\u001b[43m_sslobj\u001b[49m\u001b[38;5;241;43m.\u001b[39;49m\u001b[43mread\u001b[49m\u001b[43m(\u001b[49m\u001b[38;5;28;43mlen\u001b[39;49m\u001b[43m,\u001b[49m\u001b[43m \u001b[49m\u001b[43mbuffer\u001b[49m\u001b[43m)\u001b[49m\n\u001b[0;32m   1135\u001b[0m     \u001b[38;5;28;01melse\u001b[39;00m:\n\u001b[0;32m   1136\u001b[0m         \u001b[38;5;28;01mreturn\u001b[39;00m \u001b[38;5;28mself\u001b[39m\u001b[38;5;241m.\u001b[39m_sslobj\u001b[38;5;241m.\u001b[39mread(\u001b[38;5;28mlen\u001b[39m)\n",
      "\u001b[1;31mKeyboardInterrupt\u001b[0m: "
     ]
    }
   ],
   "source": [
    "import json\n",
    "import requests\n",
    "from bs4 import BeautifulSoup\n",
    "import time\n",
    "\n",
    "url = 'https://www.chambredesrepresentants.ma/fr/%D9%85%D8%B1%D8%A7%D9%82%D8%A8%D8%A9-%D8%A7%D9%84%D8%B9%D9%85%D9%84-%D8%A7%D9%84%D8%AD%D9%83%D9%88%D9%85%D9%8A/%D8%A7%D9%84%D8%A3%D8%B3%D9%80%D8%A6%D9%84%D8%A9-%D8%A7%D9%84%D8%B4%D9%81%D9%88%D9%8A%D8%A9-%D8%A3%D8%B1%D8%B4%D9%8A%D9%81'\n",
    "\n",
    "data = []\n",
    "try:\n",
    "    while url:\n",
    "        response = None\n",
    "        while response is None:\n",
    "            try:\n",
    "                response = requests.get(url)\n",
    "            except requests.exceptions.RequestException as e:\n",
    "                print(f\"Erreur de connexion : {e}\")\n",
    "                time.sleep(5)  # Attendre 5 secondes avant de réessayer\n",
    "        \n",
    "        if response.status_code == 200:\n",
    "            soup = BeautifulSoup(response.text, 'html.parser')\n",
    "            for x in soup.find_all(class_=\"q-b3-item q-b3i-red\"):\n",
    "                minister_txt = x.select_one('span:-soup-contains(\" Le ministère compétent   \")')\n",
    "                if minister_txt:\n",
    "                    minister_txt = minister_txt.parent.text.replace(\" Le ministère compétent   \", \"\").strip()\n",
    "                else:\n",
    "                    minister_txt = \"none\"\n",
    "                    \n",
    "                date_txt = x.select_one('span:-soup-contains(\"Date : \")')\n",
    "                if date_txt:\n",
    "                    date_txt = date_txt.parent.text.replace(\"Date :\", \"\").strip()\n",
    "                else:\n",
    "                    date_txt = \"none\"\n",
    "                            \n",
    "                question_link = x.find('a', href=True)\n",
    "                if question_link:\n",
    "                    question_link = question_link['href']\n",
    "                    Url2 = f\"https://www.chambredesrepresentants.ma{question_link}\"\n",
    "                    response2 = requests.get(Url2)\n",
    "                    if response2.status_code == 200:\n",
    "                        soup2 = BeautifulSoup(response2.text, 'html.parser')\n",
    "                        \n",
    "                        qnum_txt = soup2.select_one('span:-soup-contains(\"رقم السؤال :\")')\n",
    "                        if qnum_txt:\n",
    "                            qnum_txt = qnum_txt.parent.text.replace(\"رقم السؤال :\", \"\").strip()\n",
    "                        else:\n",
    "                            qnum_txt = \"none\"\n",
    "                        \n",
    "                        obj = soup2.select_one('span:-soup-contains(\"Objet :\")')\n",
    "                        if obj:\n",
    "                            obj = obj.parent.text.replace(\"Objet :\", \"\").strip()\n",
    "                        else:\n",
    "                            obj = \"none\"\n",
    "                        \n",
    "                        response_date_txt = soup2.select_one('span:-soup-contains(\"Date réponse :\")')\n",
    "                        if response_date_txt:\n",
    "                            response_date_txt = response_date_txt.parent.text.replace(\"Date réponse :\", \"\").strip()\n",
    "                        else:\n",
    "                            response_date_txt = \"none\"\n",
    "                        \n",
    "                        question_txt = soup2.select_one('span:-soup-contains(\"Question : \")')\n",
    "                        if question_txt:\n",
    "                            question_txt = question_txt.parent.text.replace(\"Question :\", \"\").strip()\n",
    "                        else:\n",
    "                            question_txt = \"none\"\n",
    "                        \n",
    "                        nom_questionneur = soup2.select_one('.q-name a')\n",
    "                        if nom_questionneur:\n",
    "                            nom_questionneur = nom_questionneur.text.strip()\n",
    "                        else:\n",
    "                            nom_questionneur = \"none\"\n",
    "                        \n",
    "                        link_questioner = soup2.select_one('.q-name').a['href']\n",
    "                        Url3 = f\"https://www.chambredesrepresentants.ma{link_questioner}\"\n",
    "                        response3 = requests.get(Url3)\n",
    "                        if response3.status_code == 200:\n",
    "                            soup3 = BeautifulSoup(response3.text, 'html.parser')\n",
    "                            div = soup3.find('div', class_=\"mhr-b1-info-l\").find_next('div')\n",
    "                            div2 = div.find_next('div')\n",
    "                            groupe = div2.find('span', class_=\"mht-t\").find_next('span')\n",
    "                            if groupe:\n",
    "                                groupe = groupe.text.strip()\n",
    "                            else:\n",
    "                                groupe = \"none\"\n",
    "                        \n",
    "                        # Créer un dictionnaire pour les données extraites\n",
    "                        entry = {\n",
    "                            \"minister_txt\": minister_txt,\n",
    "                            \"qnum_txt\": qnum_txt,\n",
    "                            \"obj\": obj,\n",
    "                            \"response_date_txt\": response_date_txt,\n",
    "                            \"date_txt\": date_txt,\n",
    "                            \"question_txt\": question_txt,\n",
    "                            \"nom_questionneur\": nom_questionneur,\n",
    "                            \"groupe\": groupe\n",
    "                        }\n",
    "                        \n",
    "                        data.append(entry)\n",
    "\n",
    "            # Find the <ul> element with class \"pagination\"\n",
    "            pagination_ul = soup.find('ul', class_='pagination')\n",
    "            # Check if there is a \"next\" link\n",
    "            next_link = pagination_ul.find('li', class_='next')\n",
    "            if next_link:\n",
    "                link = next_link.find('a')\n",
    "                if link:\n",
    "                    url1 = link['href']\n",
    "                    url = f\"https://www.chambredesrepresentants.ma{url1}\"\n",
    "                    print(f\"Next Link Href: {url}\")\n",
    "                    print(data)\n",
    "            else:\n",
    "                url = None\n",
    "\n",
    "except Exception as e:\n",
    "    print(f\"Une exception s'est produite : {e}\")\n",
    "\n",
    "finally:\n",
    "    # Enregistrer les résultats dans un fichier JSON\n",
    "    with open('resultats_orale.json', 'w', encoding='utf-8') as json_file:\n",
    "        json.dump(data, json_file, ensure_ascii=False, indent=4)"
   ]
  },
  {
   "cell_type": "code",
   "execution_count": null,
   "id": "307042a0-f9e9-4ea8-8d7b-843c39d7766a",
   "metadata": {},
   "outputs": [],
   "source": []
  }
 ],
 "metadata": {
  "kernelspec": {
   "display_name": "Python 3 (ipykernel)",
   "language": "python",
   "name": "python3"
  },
  "language_info": {
   "codemirror_mode": {
    "name": "ipython",
    "version": 3
   },
   "file_extension": ".py",
   "mimetype": "text/x-python",
   "name": "python",
   "nbconvert_exporter": "python",
   "pygments_lexer": "ipython3",
   "version": "3.11.0"
  }
 },
 "nbformat": 4,
 "nbformat_minor": 5
}
